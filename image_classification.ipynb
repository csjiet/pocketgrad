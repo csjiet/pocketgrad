{
 "cells": [
  {
   "cell_type": "markdown",
   "id": "7d2d4574-b22c-45db-a416-9eaff9fbebc1",
   "metadata": {},
   "source": [
    "# Image classification\n",
    "\n",
    "Can Pocketgrad do image classfication?\n",
    "\n",
    "### Obligatory components:\n",
    "1. `Training data`: Input data with **images** as data medium \n",
    "1. `Loss function`: **Sparse Categorical Cross-Entropy loss function (Log loss)**\n",
    "2. `Output layer`: **N neuron** \n",
    "3. `Optimization algorithm`: SGD"
   ]
  },
  {
   "cell_type": "code",
   "execution_count": null,
   "id": "c347bc07-5024-4b7c-9b7a-331c3c3689be",
   "metadata": {},
   "outputs": [],
   "source": []
  }
 ],
 "metadata": {
  "kernelspec": {
   "display_name": "Python 3 (ipykernel)",
   "language": "python",
   "name": "python3"
  },
  "language_info": {
   "codemirror_mode": {
    "name": "ipython",
    "version": 3
   },
   "file_extension": ".py",
   "mimetype": "text/x-python",
   "name": "python",
   "nbconvert_exporter": "python",
   "pygments_lexer": "ipython3",
   "version": "3.10.4"
  }
 },
 "nbformat": 4,
 "nbformat_minor": 5
}
