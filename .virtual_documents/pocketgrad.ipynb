import numpy as np
import matplotlib.pyplot as plt
import sys
from pprint import pprint
import os


# We want to create our own class which overloads the operator in python - operator overloading

class Value:
    def __init__(self, data, _children = (), _op = '', label = ''):
        self.data = data
        # Track the operands that generates this Value, by default - a single number - no children
        self._prev = set(_children)
        self._op= _op
        self.label = label
        self.grad = 0.0

    def __repr__(self):
        return f'Value(data= {self.data})'
    
    # Operator overloading using python magic functions
    def __add__(self, other: int) -> float:
        return Value(self.data + other.data, (self, other), '+')
    
    def __mul__(self, other: int) -> float:
        return Value(self.data * other.data, (self, other), '*')
    
a = Value(2.0, label = 'a')
b = Value(-3.0, label = 'b')
c = Value(10.0, label = 'c')


e = a * b; e.label = 'e'
d = e + c; d.label = 'd'
f = Value(-2.0, label = 'f')
L = d * f; L.label = 'L'
L


def lol():
    h = 0.000001
    
    a = Value(2.0, label = 'a')
    b = Value(-3.0, label = 'b')
    c = Value(10.0, label = 'c')
    e = a * b; e.label = 'e'
    d = e + c; d.label = 'd'
    f = Value(-2.0, label = 'f')
    L1 = d * f; L.label = 'L'
    
    a = Value(2.0 + h, label = 'a')
    b = Value(-3.0, label = 'b')
    c = Value(10.0, label = 'c')
    e = a * b; e.label = 'e'
    d = e + c; d.label = 'd'
    f = Value(-2.0, label = 'f')
    L2 = d * f; L.label = 'L'
    

    print((L2.data - L1.data)/ h)
    
    
lol() 


sys.path.append(os.path.abspath('./graphvisualizer'))

import graphvisualizer.graph_visualizer as gv 



gv.draw_dot(L)















