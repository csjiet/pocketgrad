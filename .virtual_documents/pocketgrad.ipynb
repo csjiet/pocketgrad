import numpy as np
import matplotlib.pyplot as plt
import sys
from pprint import pprint
import os

sys.path.append(os.path.abspath('./graphvisualizer'))
import graphvisualizer.graph_visualizer as gv 


# We want to create our own class which overloads the operator in python - operator overloading

class Value:
    def __init__(self, data, _children = (), _op = '', label = ''):
        self.data = data
        # Track the operands that generates this Value, by default - a single number - no children
        self._prev = set(_children)
        self._op= _op
        self.label = label
        self.grad = 0.0
        self._backward = lambda: None

    def __repr__(self):
        return f'Value(data= {self.data})'
    
    # Operator overloading using python magic functions
    def __add__(self, other: int) -> float:
        other = other if isinstance(other, Value) else Value(other)
        out = Value(self.data + other.data, (self, other), '+')
        def backward(): self.grad += 1.0 * out.grad; other.grad += 1.0 * out.grad
        out._backward = backward
        return out
    
    def __mul__(self, other: int) -> float:
        other = other if isinstance(other, Value) else Value(other)
        out = Value(self.data * other.data, (self, other), '*')
        def backward(): self.grad += other.data * out.grad ; other.grad += self.data * out.grad
        out._backward = backward
        return out
    def __neg__(self):
        return self * -1
    
    def __sub__(self, other):
        return self + (- other)
        

    def __rmul__(self, other):
        return self * other 
    
    def exp(self):
        out = Value(math.exp(x), (self, ), 'exp')
        def backward(): self.grad += out.data * out.grad
        out._backward = backward
        
        return out
    
    def __pow__(self, other):
        assert isinstance(other, (int, float)), "only supports int/ float powers"
        out = Value(self.data ** other, (self), f'**{other}')
        def backward(): self.grad = (other * self.data ** (other - 1)) * out.grad
        out._backward = backward
        return out
    
    def __truediv__(self, other):
        out = self * other**-1 # Just re-calling __mul__() and __pow__()
        return out
        
    
    def tanh(self):
        result = (np.exp(2*self.data) - 1)/(np.exp(2*self.data) + 1)
        out = Value(result, (self, ), _op = 'tanh') # By default tuple of a single object is just the object e.g., (3) vs (3,)
        def backward(): self.grad += (1.0 - result**2) * out.grad
        out._backward = backward
        return out
    
    def backward(self):
       
        topo = []
        visited = set()
        def build_topo(v):
            if v not in visited:
                visited.add(v)
                for child in v._prev:
                    build_topo(child)
                topo.append(v)
        
        build_topo(self)
        o.grad = 1.0
        for node in reversed(topo):
            node._backward()



x1 = Value(2.0, label = 'x1')
x2 = Value(0.0, label = 'x2')

w1 = Value(-3.0, label = 'w1')
w2 = Value(1.0, label = 'w2')

b = Value(6.88137, label = 'b')

x1w1 = x1 * w1
x1w1.label = 'x1*w1'

x2w2 = x2 * w2
x2w2.label = 'x2*w2'

x1w1x2w2 = x1w1 + x2w2
x1w1x2w2.label = 'x1*w1 + x2*w2'

n = x1w1x2w2 + b
n.label = 'n'

o = n.tanh()
o.label = 'o'


o.grad = 1.0
# o._backward()
# n._backward()
# x1w1x2w2._backward()
# x2w2._backward()
# x1w1._backward()
o.backward()


gv.draw_dot(o)















